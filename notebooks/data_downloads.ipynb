{
 "cells": [
  {
   "cell_type": "code",
   "execution_count": 9,
   "id": "f08ccf19",
   "metadata": {},
   "outputs": [
    {
     "data": {
      "text/plain": [
       "count        3819\n",
       "unique        863\n",
       "top       4.000,0\n",
       "freq           47\n",
       "Name: Máximo, dtype: object"
      ]
     },
     "execution_count": 9,
     "metadata": {},
     "output_type": "execute_result"
    }
   ],
   "source": [
    "import pandas as pd\n",
    "import numpy as np\n",
    "\n",
    "df = pd.read_csv('C:\\\\Users\\\\andre\\\\ww\\\\PORTAFOLIO\\\\portafolio_quant_data\\\\data\\\\data_stock_celsia.csv')\n",
    "\n",
    "df.head()\n",
    "df.Máximo.describe()\n"
   ]
  }
 ],
 "metadata": {
  "kernelspec": {
   "display_name": "Python 3",
   "language": "python",
   "name": "python3"
  },
  "language_info": {
   "codemirror_mode": {
    "name": "ipython",
    "version": 3
   },
   "file_extension": ".py",
   "mimetype": "text/x-python",
   "name": "python",
   "nbconvert_exporter": "python",
   "pygments_lexer": "ipython3",
   "version": "3.9.8"
  }
 },
 "nbformat": 4,
 "nbformat_minor": 5
}
